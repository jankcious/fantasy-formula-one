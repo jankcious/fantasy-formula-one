{
 "cells": [
  {
   "cell_type": "code",
   "execution_count": 1,
   "metadata": {
    "collapsed": false
   },
   "outputs": [
    {
     "name": "stdout",
     "output_type": "stream",
     "text": [
      "[['Racer', 'Team', 'Australia $', 'Australia Pts', 'Malaysia $', 'Malaysia Pts', 'China $', 'China Pts', 'Bahrain $', 'Bahrain Pts', 'Spain $', 'Spain Pts', 'Monaco $', 'Monaco Pts', 'Canada $', 'Canada Pts', 'Austria $', 'Austria Pts', 'England $', 'England Pts', 'Hungary $', 'Hungary Pts', 'Belgium $', 'Belgium Pts', 'Italy $', 'Italy Pts', 'Singapore $', 'Singapore Pts', 'Japan $', 'Japan Pts', 'Russia $', 'Russia Pts', 'America $', 'America Pts', 'Mexico $', 'Mexico Pts', 'Brazil $', 'Brazil Pts', 'Abu Dhabi $', 'Abu Dhabi Pts'], ['Hamilton', 'Mercedes', '', '', '', '', '', '', '', '', '', '', '', '', '', '', '', '', '', '', '', '', '', '', '', '', '', '', '', '', '', '', '', '', '', '', '', '', '', ''], ['Vettel', 'Ferrari', '', '', '', '', '', '', '', '', '', '', '', '', '', '', '', '', '', '', '', '', '', '', '', '', '', '', '', '', '', '', '', '', '', '', '', '', '', ''], ['Rosberg', 'Mercedes', '', '', '', '', '', '', '', '', '', '', '', '', '', '', '', '', '', '', '', '', '', '', '', '', '', '', '', '', '', '', '', '', '', '', '', '', '', ''], ['Massa', 'Williams', '', '', '', '', '', '', '', '', '', '', '', '', '', '', '', '', '', '', '', '', '', '', '', '', '', '', '', '', '', '', '', '', '', '', '', '', '', ''], ['Raikonnen', 'Ferrari', '', '', '', '', '', '', '', '', '', '', '', '', '', '', '', '', '', '', '', '', '', '', '', '', '', '', '', '', '', '', '', '', '', '', '', '', '', ''], ['Bottas', 'Williams', '', '', '', '', '', '', '', '', '', '', '', '', '', '', '', '', '', '', '', '', '', '', '', '', '', '', '', '', '', '', '', '', '', '', '', '', '', ''], ['Ricciardo', 'Red Bull', '', '', '', '', '', '', '', '', '', '', '', '', '', '', '', '', '', '', '', '', '', '', '', '', '', '', '', '', '', '', '', '', '', '', '', '', '', ''], ['Kvyat', 'Red Bull', '', '', '', '', '', '', '', '', '', '', '', '', '', '', '', '', '', '', '', '', '', '', '', '', '', '', '', '', '', '', '', '', '', '', '', '', '', ''], ['Perez', 'Force India', '', '', '', '', '', '', '', '', '', '', '', '', '', '', '', '', '', '', '', '', '', '', '', '', '', '', '', '', '', '', '', '', '', '', '', '', '', ''], ['Verstappen', 'Torro Rosso', '', '', '', '', '', '', '', '', '', '', '', '', '', '', '', '', '', '', '', '', '', '', '', '', '', '', '', '', '', '', '', '', '', '', '', '', '', ''], ['Grosjean', 'Lotus', '', '', '', '', '', '', '', '', '', '', '', '', '', '', '', '', '', '', '', '', '', '', '', '', '', '', '', '', '', '', '', '', '', '', '', '', '', ''], ['Hulkenberg', 'Force India', '', '', '', '', '', '', '', '', '', '', '', '', '', '', '', '', '', '', '', '', '', '', '', '', '', '', '', '', '', '', '', '', '', '', '', '', '', ''], ['Sainz', 'Torro Rosso', '', '', '', '', '', '', '', '', '', '', '', '', '', '', '', '', '', '', '', '', '', '', '', '', '', '', '', '', '', '', '', '', '', '', '', '', '', ''], ['Nasr', 'Sauber', '', '', '', '', '', '', '', '', '', '', '', '', '', '', '', '', '', '', '', '', '', '', '', '', '', '', '', '', '', '', '', '', '', '', '', '', '', ''], ['Ericsson', 'Sauber', '', '', '', '', '', '', '', '', '', '', '', '', '', '', '', '', '', '', '', '', '', '', '', '', '', '', '', '', '', '', '', '', '', '', '', '', '', ''], ['Alonso', 'Mclaren', '', '', '', '', '', '', '', '', '', '', '', '', '', '', '', '', '', '', '', '', '', '', '', '', '', '', '', '', '', '', '', '', '', '', '', '', '', ''], ['Maldonado', 'Lotus', '', '', '', '', '', '', '', '', '', '', '', '', '', '', '', '', '', '', '', '', '', '', '', '', '', '', '', '', '', '', '', '', '', '', '', '', '', ''], ['Button', 'Mclaren', '', '', '', '', '', '', '', '', '', '', '', '', '', '', '', '', '', '', '', '', '', '', '', '', '', '', '', '', '', '', '', '', '', '', '', '', '', ''], ['Stevens', 'Marussia', '', '', '', '', '', '', '', '', '', '', '', '', '', '', '', '', '', '', '', '', '', '', '', '', '', '', '', '', '', '', '', '', '', '', '', '', '', ''], ['Rossi', 'Marussia', '', '', '', '', '', '', '', '', '', '', '', '', '', '', '', '', '', '', '', '', '', '', '', '', '', '', '', '', '', '', '', '', '', '', '', '', '', ''], ['Magnussen', 'McLaren', '', '', '', '', '', '', '', '', '', '', '', '', '', '', '', '', '', '', '', '', '', '', '', '', '', '', '', '', '', '', '', '', '', '', '', '', '', ''], ['Merhi', 'Marussia', '', '', '', '', '', '', '', '', '', '', '', '', '', '', '', '', '', '', '', '', '', '', '', '', '', '', '', '', '', '', '', '', '', '', '', '', '', '']]\n"
     ]
    }
   ],
   "source": [
    "import csv\n",
    "\n",
    "#Given a race, this script will calculate all races so far in the season and build\n",
    "#summary tables to help players see their progress.\n",
    "\n",
    "RACES = ['Australia', 'Malaysia', 'China', 'Bahrain',\n",
    "         'Spain', 'Monaco', 'Canada', 'Austria',\n",
    "         'England', 'Hungary', 'Belgium', 'Italy', \n",
    "         'Singapore', 'Japan', 'Russia', 'America',\n",
    "         'Mexico', 'Brazil' , 'Abu Dhabi']\n",
    "\n",
    "DRIVERS = {'Rosberg':'Nico Rosberg', 'Hamilton':'Lewis Hamilton', 'Raikkonen':'Kimi Räikkönen',\n",
    "           'Perez':'Sergio Pérez', 'Ricciardo':'Daniel Ricciardo', 'Bottas':'Valtteri Bottas',\n",
    "          'Hulkenberg':'Nico Hülkenberg', 'Massa':'Felipe Massa', 'Kvyat':'Daniil Kvyat', \n",
    "          'Sainz':'Carlos Sainz Jr.', 'Verstappen':'Max Verstappen', 'Button':'Jenson Button',\n",
    "          'Maldonado':'Pastor Maldonado', 'Nasr':'Felipe Nasr', 'Grosjean':'Romain Grosjean',\n",
    "          'Vettel':'Sebastian Vettel', 'Alonso':'Fernando Alonso', 'Ericsson':'Marcus Ericsson',\n",
    "          'Stevens':'Will Stevens', 'Merhi':'Roberto Merhi'}\n",
    "\n",
    "rDRIVERS = {full_name:last_name for full_name, last_name in DRIVERS.items()}\n",
    "\n",
    "This_Race = 'China'\n",
    "\n",
    "with open('Season_Drivers.csv', 'rt', newline='') as f:\n",
    "    reader = csv.reader(f)\n",
    "    lines = []\n",
    "    for row in reader:\n",
    "        lines.append(row)\n",
    "\n",
    "index = RACES.index(This_Race)\n",
    "\n",
    "for line in lines:\n",
    "    \n",
    "    \n",
    "\n",
    "    \n",
    "    \n",
    "    \n",
    "\n",
    "\n",
    "\n"
   ]
  }
 ],
 "metadata": {
  "kernelspec": {
   "display_name": "Python 3",
   "language": "python",
   "name": "python3"
  },
  "language_info": {
   "codemirror_mode": {
    "name": "ipython",
    "version": 3
   },
   "file_extension": ".py",
   "mimetype": "text/x-python",
   "name": "python",
   "nbconvert_exporter": "python",
   "pygments_lexer": "ipython3",
   "version": "3.5.1"
  }
 },
 "nbformat": 4,
 "nbformat_minor": 0
}
