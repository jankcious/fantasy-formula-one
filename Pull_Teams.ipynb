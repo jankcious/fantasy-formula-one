{
 "cells": [
  {
   "cell_type": "code",
   "execution_count": 71,
   "metadata": {
    "collapsed": false
   },
   "outputs": [],
   "source": [
    "import csv\n",
    "import re\n",
    "\n",
    "RACES = ['Australia', 'Malaysia', 'China', 'Bahrain',\n",
    "         'Spain', 'Monaco', 'Canada', 'Austria',\n",
    "         'England', 'Hungary', 'Belgium', 'Italy', \n",
    "         'Singapore', 'Japan', 'Russia', 'America',\n",
    "         'Mexico', 'Brazil' , 'Abu Dhabi']\n",
    "\n",
    "DRIVERS = {'Rosberg':'Nico Rosberg', 'Hamilton':'Lewis Hamilton', 'Raikkonen':'Kimi Räikkönen',\n",
    "           'Perez':'Sergio Pérez', 'Ricciardo':'Daniel Ricciardo', 'Bottas':'Valtteri Bottas',\n",
    "          'Hulkenberg':'Nico Hülkenberg', 'Massa':'Felipe Massa', 'Kvyat':'Daniil Kvyat', \n",
    "          'Sainz':'Carlos Sainz Jr.', 'Verstappen':'Max Verstappen', 'Button':'Jenson Button',\n",
    "          'Maldonado':'Pastor Maldonado', 'Nasr':'Felipe Nasr', 'Grosjean':'Romain Grosjean',\n",
    "          'Vettel':'Sebastian Vettel', 'Alonso':'Fernando Alonso', 'Ericsson':'Marcus Ericsson',\n",
    "          'Stevens':'Will Stevens', 'Merhi':'Roberto Merhi'}\n",
    "\n",
    "Race_Input = 'Malaysia'\n",
    "\n",
    "class Team():\n",
    "    \"\"\"Team is an object correlating to a specific F1 race.  An instance will open the corresponding file\n",
    "    and build a dictionary of players and their drivers.\n",
    "    \"\"\"\n",
    "    def __init__(self, name):\n",
    "        global RACES\n",
    "        if name not in RACES:\n",
    "            print(name, 'is an invalid race name.\\nPlease select from the following:\\n', RACES)\n",
    "        self.name = name\n",
    "        with open('Teams/team_' + self.name + '.csv', 'rt', newline=\"\\r\\n\") as f:\n",
    "            teams = [line.replace('\"', '').split(',') for line in f if len(line.split(',')) > 1]\n",
    "            teams.pop(0) #remove header\n",
    "        pattern = re.compile('^(.*?)\\(')\n",
    "        for line in range(len(teams)):\n",
    "            for driver in range(2, len(teams[line])):\n",
    "                teams[line][driver] = pattern.search(teams[line][driver].strip()).group(1).strip()\n",
    "        self.teams = {}\n",
    "        for line in teams:\n",
    "            self.teams[line[1]] = line[2::]\n",
    "            \n",
    "    def drop(self, team, racer):\n",
    "        if team not in self.teams:\n",
    "            print(team, 'is not in the league.  Try', self.name + '.teams to see your options.')\n",
    "            raise\n",
    "        if racer not in self.teams[team]:\n",
    "            print(racer, 'is not on', team + \"'s team.  Try\", self.name + '.teams to see the current teams.')\n",
    "            raise\n",
    "        self.teams[team].remove(racer)\n",
    "        self.push()\n",
    "        \n",
    "    def push(self):\n",
    "        #Push self.teams to the csv\n",
    "        header = [['Player', 'Driver1', 'Driver2', 'Driver3', 'Driver4', 'Driver5']]\n",
    "        for player in self.teams.keys():\n",
    "            header.append([player])\n",
    "            header[header.index([player])].extend(self.teams[player])     \n",
    "        with open('teams/team_' + self.name + '.csv', 'wt', newline='') as f:\n",
    "            csv_writer = csv.writer(f)\n",
    "            csv_writer.writerows(header)\n",
    "        \n",
    "    def add(self, team, racer):\n",
    "        if team not in self.teams:\n",
    "            print(team, 'is not in the league.  Try', self.name + '.teams to see your options.')\n",
    "            raise\n",
    "        if len(self.teams[team]) == 5:\n",
    "            print(team + \"'s team already has five drivers.  Consider using .drop or .replace\")\n",
    "        self.teams[team].append(racer)  \n",
    "        self.push()\n",
    "        \n",
    "    def replace(self, team, drop_racer, add_racer):\n",
    "        if team not in self.teams:\n",
    "            print(team, 'is not in the league.  Try', self.name + '.teams to see your options.')\n",
    "            raise\n",
    "        if drop_racer not in self.teams[team]:\n",
    "            print(drop_racer, 'is not on', team + \"'s team.  Try\", self.name + '.teams to see the current teams.')\n",
    "            raise\n",
    "        self.teams[team].remove(drop_racer)\n",
    "        self.teams[team].append(add_racer)\n",
    "        self.push()\n",
    "        \n",
    "    def __repr__(self):\n",
    "        print_string = ''\n",
    "        for team in self.teams:\n",
    "            print_string += team + ':\\t' + str(sorted(self.teams[team])) + '\\n'\n",
    "        return print_string\n",
    "    \n",
    "    def validate(self, team):\n",
    "        global DRIVERS\n",
    "        driver_cost = {}\n",
    "        cost_column = RACES.index(self.name) * 2 + 2\n",
    "        with open('Season_Drivers.csv', 'rt', newline='') as f:\n",
    "            for line in f:\n",
    "                val = line.split(',')\n",
    "                driver_cost[val[0]] = val[cost_column]\n",
    "        budget = 33\n",
    "        for driver in self.teams[team]:\n",
    "            if driver not in DRIVERS.values():\n",
    "                driver = DRIVERS[driver]\n",
    "            budget -= int(driver_cost[driver])\n",
    "        return budget\n",
    "\n",
    "TeamMalaysia = Team(Race_Input)"
   ]
  },
  {
   "cell_type": "code",
   "execution_count": 101,
   "metadata": {
    "collapsed": false
   },
   "outputs": [],
   "source": [
    "TeamChina.drop('John', 'Bottas')"
   ]
  },
  {
   "cell_type": "code",
   "execution_count": 97,
   "metadata": {
    "collapsed": false
   },
   "outputs": [],
   "source": [
    "TeamChina.add('John', 'Bottas')"
   ]
  },
  {
   "cell_type": "code",
   "execution_count": 72,
   "metadata": {
    "collapsed": false
   },
   "outputs": [
    {
     "name": "stdout",
     "output_type": "stream",
     "text": [
      "Mike:\t['Bottas', 'Hamilton', 'Massa', 'Raikkonen', 'Vettel']\n",
      "John:\t['Bottas', 'Hamilton', 'Kvyat', 'Massa', 'Vettel']\n",
      "Brian:\t['Hamilton', 'Maldonado', 'Massa', 'Raikkonen', 'Rosberg']\n",
      "Chris:\t['Bottas', 'Maldonado', 'Ricciardo', 'Rosberg', 'Vettel']\n",
      "Jason:\t['Hamilton', 'Kvyat', 'Raikkonen', 'Rosberg', 'Verstappen']\n",
      "\n"
     ]
    }
   ],
   "source": [
    "TeamAustralia = Team('Australia')\n",
    "print(TeamAustralia)"
   ]
  },
  {
   "cell_type": "code",
   "execution_count": 73,
   "metadata": {
    "collapsed": false
   },
   "outputs": [
    {
     "name": "stdout",
     "output_type": "stream",
     "text": [
      "Cost_Column = 2\n"
     ]
    },
    {
     "data": {
      "text/plain": [
       "2"
      ]
     },
     "execution_count": 73,
     "metadata": {},
     "output_type": "execute_result"
    }
   ],
   "source": [
    "TeamAustralia.validate('Brian')"
   ]
  }
 ],
 "metadata": {
  "kernelspec": {
   "display_name": "Python 3",
   "language": "python",
   "name": "python3"
  },
  "language_info": {
   "codemirror_mode": {
    "name": "ipython",
    "version": 3
   },
   "file_extension": ".py",
   "mimetype": "text/x-python",
   "name": "python",
   "nbconvert_exporter": "python",
   "pygments_lexer": "ipython3",
   "version": "3.5.1"
  }
 },
 "nbformat": 4,
 "nbformat_minor": 0
}
