{
 "cells": [
  {
   "cell_type": "code",
   "execution_count": 1,
   "metadata": {
    "collapsed": false,
    "scrolled": true
   },
   "outputs": [],
   "source": [
    "from lxml.html import parse\n",
    "from urllib import request\n",
    "import csv\n",
    "import lxml\n",
    "from lxml.html.clean import Cleaner\n",
    "\n",
    "def unpack(row, kind='td'):\n",
    "    data = row.findall('.//%s' % kind)\n",
    "    return [val.text_content() for val in data]\n",
    "\n",
    "URLs = {'Australia':'https://en.wikipedia.org/wiki/2015_Australian_Grand_Prix',\n",
    "       'Malaysia':'https://en.wikipedia.org/wiki/2015_Malaysian_Grand_Prix',\n",
    "       'China':'https://en.wikipedia.org/wiki/2015_Chinese_Grand_Prix',\n",
    "       'Bahrain':'https://en.wikipedia.org/wiki/2015_Bahrain_Grand_Prix',\n",
    "       'Spain':'https://en.wikipedia.org/wiki/2015_Spanish_Grand_Prix',\n",
    "       'Monaco':'https://en.wikipedia.org/wiki/2015_Monaco_Grand_Prix',\n",
    "       'Canada':'https://en.wikipedia.org/wiki/2015_Canadian_Grand_Prix',\n",
    "       'Austria':'https://en.wikipedia.org/wiki/2015_Austrian_Grand_Prix',\n",
    "       'England':'https://en.wikipedia.org/wiki/2015_British_Grand_Prix',\n",
    "       'Hungary':'https://en.wikipedia.org/wiki/2015_Hungarian_Grand_Prix',\n",
    "       'Belgium':'https://en.wikipedia.org/wiki/2015_Belgian_Grand_Prix',\n",
    "       'Italy':'https://en.wikipedia.org/wiki/2015_Italian_Grand_Prix',\n",
    "       'Singapore':'https://en.wikipedia.org/wiki/2015_Singapore_Grand_Prix',\n",
    "       'Japan':'https://en.wikipedia.org/wiki/2015_Japanese_Grand_Prix',\n",
    "       'Russia':'https://en.wikipedia.org/wiki/2015_Russian_Grand_Prix',\n",
    "       'America':'https://en.wikipedia.org/wiki/2015_United_States_Grand_Prix',\n",
    "       'Mexico':'https://en.wikipedia.org/wiki/2015_Mexican_Grand_Prix',\n",
    "       'Brazil':'https://en.wikipedia.org/wiki/2015_Brazilian_Grand_Prix',\n",
    "       'Abu Dhabi':'https://en.wikipedia.org/wiki/2015_Abu_Dhabi_Grand_Prix',\n",
    "       }\n",
    "\n",
    "# URLs = {'Abu Dhabi':'https://en.wikipedia.org/wiki/2015_Abu_Dhabi_Grand_Prix'}\n",
    "\n",
    "def download(race):\n",
    "    URL = URLs[race]\n",
    "    parsed = parse(request.urlopen(URL))\n",
    "    doc = parsed.getroot()\n",
    "    #Remove superscript tags and their content\n",
    "    cleaner = Cleaner(kill_tags=['sup'])\n",
    "    doc = cleaner.clean_html(doc)\n",
    "    tables = doc.findall('.//table')\n",
    "    #QUALIFYING\n",
    "    qualifying_results = tables[1]\n",
    "    rows = qualifying_results.findall('.//tr')\n",
    "    #Pull headers and data, then merge them together\n",
    "    header = [unpack(row, kind='th') for row in rows]\n",
    "    data = [unpack(row, kind='td') for row in rows]\n",
    "    for i in range(len(data)):\n",
    "        for c in range(len(header[i])-1, -1, -1):\n",
    "            data[i].insert(0, header[i][c])\n",
    "    for i in range(len(data)):\n",
    "        for c in range(len(data[i])):\n",
    "            data[i][c] = data[i][c].strip().replace(',', '')\n",
    "    #Save Qualfiying results as .csv\n",
    "    with open('results/' + race + '_Qualifying.csv', 'wt', newline='') as f:\n",
    "        file = csv.writer(f)\n",
    "        file.writerows(data)\n",
    "    #RACE\n",
    "    race_results = tables[2]\n",
    "    rows = race_results.findall('.//tr')\n",
    "    #Pull headers and data, then merge them together\n",
    "    header = [unpack(row, kind='th') for row in rows]\n",
    "    data = [unpack(row, kind='td') for row in rows]\n",
    "    for i in range(len(data)):\n",
    "        for c in range(len(header[i])-1, -1, -1):\n",
    "            data[i].insert(0, header[i][c].strip())\n",
    "    for i in range(len(data)):\n",
    "        for c in range(len(data[i])):\n",
    "            data[i][c] = data[i][c].strip().replace(',', '').replace('\\r\\n', '')\n",
    "    #Total laps and fastest lap are stored in a metatable, appended to race results\n",
    "    metatable = tables[0]\n",
    "    metarows = metatable.findall('.//tr')\n",
    "    metaheaders = [unpack(row, kind='th') for row in metarows]\n",
    "    metadata = [unpack(row, kind='td') for row in metarows]\n",
    "    #Save Race results as .csv\n",
    "    with open('results/' + race + '_Race.csv', 'wt', newline='') as f:\n",
    "        file = csv.writer(f)\n",
    "        file.writerows(data)\n",
    "        file.writerows([['Total Laps', int(metadata[metaheaders.index(['Distance'])][0].split()[0])]])\n",
    "        file.writerows([['Fastest Lap', metadata[metaheaders.index(['Fastest lap']) + 1][0].strip()]])"
   ]
  },
  {
   "cell_type": "code",
   "execution_count": 2,
   "metadata": {
    "collapsed": true
   },
   "outputs": [],
   "source": [
    "for URL in URLs.keys():\n",
    "    download(URL)"
   ]
  }
 ],
 "metadata": {
  "kernelspec": {
   "display_name": "Python 3",
   "language": "python",
   "name": "python3"
  },
  "language_info": {
   "codemirror_mode": {
    "name": "ipython",
    "version": 3
   },
   "file_extension": ".py",
   "mimetype": "text/x-python",
   "name": "python",
   "nbconvert_exporter": "python",
   "pygments_lexer": "ipython3",
   "version": "3.5.1"
  }
 },
 "nbformat": 4,
 "nbformat_minor": 0
}
