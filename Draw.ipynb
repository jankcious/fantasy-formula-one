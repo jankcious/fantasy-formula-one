{
 "cells": [
  {
   "cell_type": "code",
   "execution_count": 1,
   "metadata": {
    "collapsed": true
   },
   "outputs": [],
   "source": [
    "import win32com.client\n",
    "import numpy as np"
   ]
  },
  {
   "cell_type": "code",
   "execution_count": 2,
   "metadata": {
    "collapsed": false
   },
   "outputs": [],
   "source": [
    "Application = win32com.client.Dispatch(\"PowerPoint.Application\")"
   ]
  },
  {
   "cell_type": "code",
   "execution_count": 3,
   "metadata": {
    "collapsed": true
   },
   "outputs": [],
   "source": [
    "Presentation = Application.Presentations.Add()"
   ]
  },
  {
   "cell_type": "code",
   "execution_count": 4,
   "metadata": {
    "collapsed": true
   },
   "outputs": [],
   "source": [
    "Base = Presentation.Slides.Add(1, 12)"
   ]
  },
  {
   "cell_type": "code",
   "execution_count": 5,
   "metadata": {
    "collapsed": true
   },
   "outputs": [],
   "source": [
    "Drivers = {\n",
    "'Nico Rosberg': 19,\n",
    "'Romain Grosjean': 14,\n",
    "'Daniel Ricciardo': 13,\n",
    "'Lewis Hamilton': 14,\n",
    "'Valtteri Bottas': 7,\n",
    "'Max Verstappen': 13,\n",
    "'Felipe Massa': 9,\n",
    "'Kimi Räikkönen': 16,\n",
    "'Sebastian Vettel': 2,\n",
    "'Nico Hülkenberg': 6,\n",
    "'Kevin Magnussen': 10,\n",
    "'Daniil Kvyat': 12,\n",
    "'Felipe Nasr': 5,\n",
    "'Sergio Pérez': 3,\n",
    "'Stoffel Vandoorne': 6,\n",
    "'Pascal Wehrlein': 4,\n",
    "'Carlos Sainz Jr.': 2,\n",
    "'Marcus Ericsson': 5,\n",
    "'Jolyon Palmer': 0,\n",
    "'Jenson Button': 1,\n",
    "'Rio Haryanto': 3,\n",
    "'Fernando Alonso': 0,\n",
    "'Esteban Gutiérrez': 1,\n",
    "}\n",
    "Colors = {\n",
    "'Nico Rosberg': '2ab4a5',\n",
    "'Romain Grosjean': 'haas',\n",
    "'Daniel Ricciardo': 13,\n",
    "'Lewis Hamilton': '2ab4a5',\n",
    "'Valtteri Bottas': 'ffffff',\n",
    "'Max Verstappen': 13,\n",
    "'Felipe Massa': 'ffffff',\n",
    "'Kimi Räikkönen': 16,\n",
    "'Sebastian Vettel': 2,\n",
    "'Nico Hülkenberg': 6,\n",
    "'Kevin Magnussen': 10,\n",
    "'Daniil Kvyat': 12,\n",
    "'Felipe Nasr': 5,\n",
    "'Sergio Pérez': 3,\n",
    "'Stoffel Vandoorne': 6,\n",
    "'Pascal Wehrlein': 4,\n",
    "'Carlos Sainz Jr.': 2,\n",
    "'Marcus Ericsson': 5,\n",
    "'Jolyon Palmer': 0,\n",
    "'Jenson Button': 1,\n",
    "'Rio Haryanto': 3,\n",
    "'Fernando Alonso': 0,\n",
    "'Esteban Gutiérrez': 1,\n",
    "}"
   ]
  },
  {
   "cell_type": "code",
   "execution_count": 33,
   "metadata": {
    "collapsed": false
   },
   "outputs": [],
   "source": [
    "max_w = 960\n",
    "max_h = 540\n",
    "Base = Presentation.Slides.Add(1, 12)\n",
    "for x, i in enumerate(Drivers.values()):\n",
    "    bar_h = i * max_h / 25\n",
    "    Bar = Base.Shapes.AddShape(Type=1, Left=(max_w / 22) * x, Top=max_h - bar_h, Width=(max_w / 22), Height=bar_h)\n",
    "    \n",
    "    \n",
    "    \n"
   ]
  },
  {
   "cell_type": "code",
   "execution_count": 32,
   "metadata": {
    "collapsed": false
   },
   "outputs": [],
   "source": [
    "Bar.name = 'Hamilton'"
   ]
  }
 ],
 "metadata": {
  "kernelspec": {
   "display_name": "Python 3",
   "language": "python",
   "name": "python3"
  },
  "language_info": {
   "codemirror_mode": {
    "name": "ipython",
    "version": 3
   },
   "file_extension": ".py",
   "mimetype": "text/x-python",
   "name": "python",
   "nbconvert_exporter": "python",
   "pygments_lexer": "ipython3",
   "version": "3.5.1"
  }
 },
 "nbformat": 4,
 "nbformat_minor": 0
}
