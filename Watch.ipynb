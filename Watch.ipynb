{
 "cells": [
  {
   "cell_type": "code",
   "execution_count": 1,
   "metadata": {
    "collapsed": false
   },
   "outputs": [],
   "source": [
    "import pandas as pd\n",
    "import numpy as np\n",
    "import matplotlib\n",
    "import matplotlib.pyplot as plt\n",
    "#%matplotlib inline\n",
    "from bs4 import BeautifulSoup\n",
    "import html5lib\n",
    "import requests\n",
    "import datetime\n",
    "import time\n",
    "from f1 import Team\n",
    "from f1 import Race\n",
    "import matplotlib.animation as animation"
   ]
  },
  {
   "cell_type": "code",
   "execution_count": 23,
   "metadata": {
    "collapsed": true
   },
   "outputs": [],
   "source": [
    "#Change these variables to update the race:\n",
    "RACE = '8'\n",
    "RACENAME = 'Azerbaijan'\n",
    "# RACE = '7'\n",
    "# RACENAME = 'Canada'"
   ]
  },
  {
   "cell_type": "code",
   "execution_count": null,
   "metadata": {
    "collapsed": false
   },
   "outputs": [],
   "source": [
    "#This section is to download fresh results from Ergast\n",
    "path = 'http://ergast.com/api/f1'\n",
    "season = '2016'\n",
    "URL = path + '/' + season + '/' + RACE + '/' + 'laps?limit=1000'\n",
    "\n",
    "#Download\n",
    "results = requests.get(URL)\n",
    "#soup = BeautifulSoup(results.content, 'lxml')\n",
    "print(\"First 1000 records downloaded\")\n",
    "#Part 2\n",
    "URL = path + '/' + season + '/' + RACE + '/' + 'laps?limit=1000&offset=1000'\n",
    "results2 = requests.get(URL)\n",
    "#soup2 = BeautifulSoup(results2.content, 'lxml')\n",
    "with open(RACENAME + '_race_dl.xml', 'wb') as f:\n",
    "    f.write(results.content)\n",
    "    f.write(results2.content)"
   ]
  },
  {
   "cell_type": "code",
   "execution_count": 24,
   "metadata": {
    "collapsed": true
   },
   "outputs": [],
   "source": [
    "#This section will just open a saved copy.  Run it always to pull the composite soup\n",
    "with open(RACENAME + '_race_dl.xml', 'rb') as f:\n",
    "    results = f.read()\n",
    "soup = BeautifulSoup(results, 'lxml')"
   ]
  },
  {
   "cell_type": "code",
   "execution_count": 25,
   "metadata": {
    "collapsed": false
   },
   "outputs": [],
   "source": [
    "#pull in driverids to names\n",
    "driver_info = pd.DataFrame.from_csv('driver_info.csv')\n",
    "driverid_dict = {driver_info.ix[i]['driverid']:driver_info.ix[i]['GivenName'] + \" \" + driver_info.ix[i]['FamilyName'] for i in driver_info.index}\n",
    "driverid_dict['sainz'] = driverid_dict['sainz'] + ' Jr.'\n",
    "colors = {driver_info.ix[i]['GivenName'] + \" \" + driver_info.ix[i]['FamilyName']: driver_info.ix[i]['color'] for i in driver_info.index}\n",
    "#Manually Correct Carlos Sainz\n",
    "colors['Carlos Sainz Jr.'] = colors['Carlos Sainz']\n",
    "driver_abrev = {driver_info.ix[i]['GivenName'] + \" \" + driver_info.ix[i]['FamilyName']:driver_info.ix[i]['code'] for i in driver_info.index}\n",
    "driver_abrev['Carlos Sainz Jr.'] = 'SAI'"
   ]
  },
  {
   "cell_type": "code",
   "execution_count": 26,
   "metadata": {
    "collapsed": false,
    "scrolled": true
   },
   "outputs": [],
   "source": [
    "headers = ('driverid', 'lap', 'time')\n",
    "num_rows = len(soup.find_all('timing'))\n",
    "race_dict = {}\n",
    "for header in headers:\n",
    "    race_dict[header] = [race[header] for race in soup.find_all('timing')]\n",
    "df = pd.DataFrame(race_dict)\n",
    "df['minutes'] = df['time'].apply(lambda x: x.split(':')[0])\n",
    "df['seconds'] = df['time'].apply(lambda x: x.split(':')[1])\n",
    "df['lap_sec'] = df['minutes'].astype('int64') * 60 + df['seconds'].astype('float32')\n",
    "df['lap'] = df['lap'].astype('int64')\n",
    "df['driver'] = df['driverid'].apply(lambda x: driverid_dict[x])"
   ]
  },
  {
   "cell_type": "code",
   "execution_count": 27,
   "metadata": {
    "collapsed": false
   },
   "outputs": [],
   "source": [
    "pivot = df.pivot(index='driver', columns='lap', values='lap_sec')"
   ]
  },
  {
   "cell_type": "code",
   "execution_count": 28,
   "metadata": {
    "collapsed": false
   },
   "outputs": [],
   "source": [
    "for i in range(2, df['lap'].max() + 1):\n",
    "    pivot.ix[:,i] = pivot.ix[:,i] + pivot.ix[:, i-1]"
   ]
  },
  {
   "cell_type": "code",
   "execution_count": 29,
   "metadata": {
    "collapsed": false
   },
   "outputs": [],
   "source": [
    "unpivot = pivot.stack()\n",
    "new_df = unpivot.reset_index()\n",
    "new_df.columns = ['driverid', 'lap', 'cume_sec']\n",
    "new_df.sort_values('cume_sec', ascending=True, inplace=True)\n",
    "new_df = new_df.reset_index()\n",
    "new_df.drop('index', axis=1, inplace=True)"
   ]
  },
  {
   "cell_type": "code",
   "execution_count": 30,
   "metadata": {
    "collapsed": false,
    "scrolled": true
   },
   "outputs": [],
   "source": [
    "#Set up a Race object, score it, return a dataframe of all points\n",
    "ThisRace = Race(RACENAME)\n",
    "df_score = ThisRace.score()\n",
    "ThisTeam = Team(RACENAME)"
   ]
  },
  {
   "cell_type": "code",
   "execution_count": 34,
   "metadata": {
    "collapsed": false,
    "scrolled": true
   },
   "outputs": [
    {
     "name": "stderr",
     "output_type": "stream",
     "text": [
      "C:\\Users\\Jason\\Anaconda3\\lib\\site-packages\\ipykernel\\__main__.py:11: SettingWithCopyWarning: \n",
      "A value is trying to be set on a copy of a slice from a DataFrame\n",
      "\n",
      "See the caveats in the documentation: http://pandas.pydata.org/pandas-docs/stable/indexing.html#indexing-view-versus-copy\n"
     ]
    }
   ],
   "source": [
    "#Set up current dataframe:\n",
    "#tracks each drivers position at a certain point of the race\n",
    "#and the laps completed.\n",
    "current = pd.DataFrame(columns=['position', 'lap'])\n",
    "current['position'] = df_score['Grid'].copy()\n",
    "current['lap'] = 0\n",
    "if 'DNS' in current['position']:\n",
    "    current['position'][current['position'] == 'DNS'] = np.NaN\n",
    "if 'PL' in current['position']:\n",
    "    current['position'][current['position'] == 'PL'] = np.NaN\n",
    "\n",
    "#Fix pit lane\n",
    "current['position']['Kevin Magnussen'] = 22\n",
    "\n",
    "current.sort_values('position', inplace=True)"
   ]
  },
  {
   "cell_type": "code",
   "execution_count": 36,
   "metadata": {
    "collapsed": false
   },
   "outputs": [],
   "source": [
    "#Set all laps completed to zero\n",
    "ThisRace.laps_completed = {driver:current.ix[driver]['lap'] for driver in current.index}"
   ]
  },
  {
   "cell_type": "code",
   "execution_count": 38,
   "metadata": {
    "collapsed": false
   },
   "outputs": [],
   "source": [
    "#Reworking on real time\n",
    "fastest_lap_time = 1000 #dummy value\n",
    "first = False \n",
    "row_count = 0\n",
    "fps = 20\n",
    "\n",
    "def blank():\n",
    "    pass\n",
    "def update_driver_scores2(step, rects, ax):\n",
    "    global fastest_lap_time\n",
    "    global ThisRace\n",
    "    global current\n",
    "    global new_df\n",
    "    global first\n",
    "    global row_count\n",
    "    global fps\n",
    "    #print('Step:', step, 'Row Count:', row_count)\n",
    "    if float(new_df.ix[row_count]['cume_sec']) < step / fps:\n",
    "        driver, lap, cume_sec = new_df.ix[row_count]\n",
    "        if lap == 1:\n",
    "            if cume_sec != np.NaN:\n",
    "                cur_lap_time = cume_sec\n",
    "        elif new_df.ix[row_count, 'cume_sec'] != np.NaN:\n",
    "            cur_lap_time = cume_sec - float(new_df['cume_sec'][(new_df['driverid'] == driver) & (new_df['lap'] == lap - 1)])\n",
    "        if cur_lap_time < fastest_lap_time: #check for fastest lap\n",
    "            ThisRace.fastest_lap = driver\n",
    "            fastest_lap_time = cur_lap_time\n",
    "        if cume_sec == np.NaN:\n",
    "            #ThisRace.drivers_position[driver] = \"Ret\"\n",
    "            #print(driver, 'is out!')\n",
    "            xxx = 0 #filler code\n",
    "        else:\n",
    "            current.ix[driver, 'lap'] += 1 #increment lap\n",
    "            current.sort_values('lap', kind='mergesort', inplace=True, ascending=False) #sort by lap, stable sort\n",
    "            #print('before: \\n', current)\n",
    "            current['position'] = np.arange(1,len(current) + 1) #recalc positions\n",
    "            #print('after: \\n', current)\n",
    "            ThisRace.laps_completed[driver] = lap #update laps completed for driver\n",
    "            ThisRace.drivers_position = {driver:current.ix[driver, 'position'] for driver in current.index} #update driver positions\n",
    "        ThisRace.score().sort_values('Finish', inplace=True, ascending=True)\n",
    "        #print(ThisRace.fantasy_points)\n",
    "        for rect, h, driver in zip(rects, \n",
    "                                   [ThisRace.fantasy_points[driver] for driver in current.index], \n",
    "                                   [driver for driver in current.index]):\n",
    "            #print(rect, h, driver)\n",
    "            rect.set_height(h)\n",
    "            rect.set_color(colors[driver])\n",
    "            rect.set_edgecolor('#000000')\n",
    "        ax.xaxis.set_ticklabels([driver_abrev[driver] for driver in current.index])\n",
    "        #print([driver for driver in current.index])\n",
    "        #ax.xaxis.set_ticklabels(current.index)\n",
    "        row_count += 1\n",
    "        \n",
    "\n",
    "#whole race\n",
    "start_time = datetime.datetime.now()\n",
    "end_time = start_time + datetime.timedelta(seconds=float(new_df[-1:]['cume_sec']))\n",
    "ThisRace.drivers_position = ThisRace.grid_position\n",
    "ThisRace.score()\n",
    "\n",
    "\n",
    "fig1 = plt.figure()\n",
    "#fig, ax = plt.subplots()\n",
    "ax = fig1.add_subplot(1,1,1)\n",
    "#ax.grid(False)\n",
    "ax.xaxis.grid(False)\n",
    "ax.yaxis.grid(True)\n",
    "ax.set_frame_on(False)\n",
    "ax.tick_params(axis='both', width=0)\n",
    "x_pos = current['position']\n",
    "points = [ThisRace.fantasy_points[driver] for driver in current.index]\n",
    "rects = ax.bar(x_pos, points, align='center', edgecolor='#000000', linewidth=0.5)\n",
    "plt.xticks(x_pos, [driver_abrev[driver] for driver in current.index], rotation=90)\n",
    "plt.xlim([0, len(points)+1])\n",
    "plt.title('Drivers Fantasy Points')\n",
    "plt.ylabel('Points')\n",
    "plt.ylim([0, 25])\n",
    "interval = int(new_df[-1:]['cume_sec'] * fps)\n",
    "# ax.spines['top'].set_visible(True)\n",
    "# ax.spines['top'].set_linewidth(3)\n",
    "for rect, h, driver in zip(rects, \n",
    "                           [ThisRace.fantasy_points[driver] for driver in current.index], \n",
    "                           [driver for driver in current.index]):\n",
    "            rect.set_height(h)\n",
    "            rect.set_color(colors[driver])\n",
    "            rect.set_edgecolor('#000000')\n",
    "ani = animation.FuncAnimation(fig1, update_driver_scores2, interval, fargs=([rects, ax]), init_func=blank)\n",
    "ani.save(RACENAME + '9_movie.mp4', fps=fps, writer='ffmpeg', bitrate=5000)"
   ]
  },
  {
   "cell_type": "code",
   "execution_count": null,
   "metadata": {
    "collapsed": true
   },
   "outputs": [],
   "source": []
  }
 ],
 "metadata": {
  "kernelspec": {
   "display_name": "Python 3",
   "language": "python",
   "name": "python3"
  },
  "language_info": {
   "codemirror_mode": {
    "name": "ipython",
    "version": 3
   },
   "file_extension": ".py",
   "mimetype": "text/x-python",
   "name": "python",
   "nbconvert_exporter": "python",
   "pygments_lexer": "ipython3",
   "version": "3.5.1"
  }
 },
 "nbformat": 4,
 "nbformat_minor": 0
}
