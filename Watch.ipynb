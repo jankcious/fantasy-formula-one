{
 "cells": [
  {
   "cell_type": "code",
   "execution_count": 1,
   "metadata": {
    "collapsed": false
   },
   "outputs": [],
   "source": [
    "import pandas as pd\n",
    "import numpy as np\n",
    "import matplotlib\n",
    "import matplotlib.pyplot as plt\n",
    "#%matplotlib inline\n",
    "from bs4 import BeautifulSoup\n",
    "import html5lib\n",
    "import requests\n",
    "import datetime\n",
    "import time"
   ]
  },
  {
   "cell_type": "code",
   "execution_count": 2,
   "metadata": {
    "collapsed": false
   },
   "outputs": [],
   "source": [
    "path = 'http://ergast.com/api/f1'\n",
    "season = '2016'\n",
    "race = '3'\n",
    "URL = path + '/' + season + '/' + race + '/' + 'laps?limit=1000'\n",
    "\n",
    "#Download\n",
    "# results = requests.get(URL)\n",
    "# soup = BeautifulSoup(results.content, 'lxml')\n",
    "# print(\"First 1000 records downloaded\")\n",
    "# #Part 2\n",
    "# URL = path + '/' + season + '/' + race + '/' + 'laps?limit=1000&offset=1000'\n",
    "# results2 = requests.get(URL)\n",
    "# soup2 = BeautifulSoup(results.content, 'lxml')\n",
    "\n",
    "# with open('china_race_dl.xml', 'wb') as f:\n",
    "#     f.write(results.content)\n",
    "#     f.write(results2.content)\n",
    "\n",
    "\n",
    "#open saved copy\n",
    "with open('china_race_dl.xml', 'rb') as f:\n",
    "    results = f.read()\n",
    "soup = BeautifulSoup(results, 'lxml')"
   ]
  },
  {
   "cell_type": "code",
   "execution_count": 3,
   "metadata": {
    "collapsed": false
   },
   "outputs": [],
   "source": [
    "#pull in driverids to names\n",
    "driver_info = pd.DataFrame.from_csv('driver_info.csv')\n",
    "driverid_dict = {driver_info.ix[i]['driverid']:driver_info.ix[i]['GivenName'] + \" \" + driver_info.ix[i]['FamilyName'] for i in driver_info.index}\n",
    "driverid_dict['sainz'] = driverid_dict['sainz'] + ' Jr.'\n",
    "colors = {driver_info.ix[i]['GivenName'] + \" \" + driver_info.ix[i]['FamilyName']: driver_info.ix[i]['color'] for i in driver_info.index}\n",
    "colors['Carlos Sainz Jr.'] = colors['Carlos Sainz']"
   ]
  },
  {
   "cell_type": "code",
   "execution_count": 4,
   "metadata": {
    "collapsed": false
   },
   "outputs": [],
   "source": [
    "driver_abrev = {driver_info.ix[i]['GivenName'] + \" \" + driver_info.ix[i]['FamilyName']:driver_info.ix[i]['code'] for i in driver_info.index}\n",
    "driver_abrev['Carlos Sainz Jr.'] = 'SAI'"
   ]
  },
  {
   "cell_type": "code",
   "execution_count": 5,
   "metadata": {
    "collapsed": false,
    "scrolled": true
   },
   "outputs": [],
   "source": [
    "headers = ('driverid', 'lap', 'time')\n",
    "num_rows = len(soup.find_all('timing'))\n",
    "race_dict = {}\n",
    "for header in headers:\n",
    "    race_dict[header] = [race[header] for race in soup.find_all('timing')]\n",
    "df = pd.DataFrame(race_dict)\n",
    "df['minutes'] = [x.split(\":\")[0] for x in df['time']]\n",
    "df['seconds'] = [x.split(\":\")[1] for x in df['time']]\n",
    "df['lap_sec'] = df['minutes'].astype('int64') * 60 + df['seconds'].astype('float32')\n",
    "df['lap'] = df['lap'].astype('int64')\n",
    "df['driver'] = [driverid_dict[driver] for driver in df['driverid']]"
   ]
  },
  {
   "cell_type": "code",
   "execution_count": 6,
   "metadata": {
    "collapsed": false
   },
   "outputs": [],
   "source": [
    "pivot = df.pivot(index='driver', columns='lap', values='lap_sec')"
   ]
  },
  {
   "cell_type": "code",
   "execution_count": 7,
   "metadata": {
    "collapsed": false
   },
   "outputs": [],
   "source": [
    "for i in range(2, df['lap'].max() + 1):\n",
    "    pivot.ix[:,i] = pivot.ix[:,i] + pivot.ix[:, i-1]"
   ]
  },
  {
   "cell_type": "code",
   "execution_count": 8,
   "metadata": {
    "collapsed": false
   },
   "outputs": [],
   "source": [
    "unpivot = pivot.stack()\n",
    "new_df = unpivot.reset_index()\n",
    "new_df.columns = ['driverid', 'lap', 'cume_sec']\n",
    "new_df.sort_values('cume_sec', ascending=True, inplace=True)\n",
    "new_df = new_df.reset_index()\n",
    "new_df.drop('index', axis=1, inplace=True)"
   ]
  },
  {
   "cell_type": "code",
   "execution_count": 9,
   "metadata": {
    "collapsed": false
   },
   "outputs": [],
   "source": [
    "from f1 import Team\n",
    "from f1 import Race"
   ]
  },
  {
   "cell_type": "code",
   "execution_count": 10,
   "metadata": {
    "collapsed": false,
    "scrolled": true
   },
   "outputs": [
    {
     "name": "stderr",
     "output_type": "stream",
     "text": [
      "C:\\users\\jason\\documents\\fantasy-formula-one\\f1.py:223: SettingWithCopyWarning: \n",
      "A value is trying to be set on a copy of a slice from a DataFrame\n",
      "\n",
      "See the caveats in the documentation: http://pandas.pydata.org/pandas-docs/stable/indexing.html#indexing-view-versus-copy\n",
      "  fantasy_points['Team_Pts'][fantasy_points['Finish'].isin(team_points)] = 1\n",
      "C:\\users\\jason\\documents\\fantasy-formula-one\\f1.py:227: SettingWithCopyWarning: \n",
      "A value is trying to be set on a copy of a slice from a DataFrame\n",
      "\n",
      "See the caveats in the documentation: http://pandas.pydata.org/pandas-docs/stable/indexing.html#indexing-view-versus-copy\n",
      "  fantasy_points['Movement_Pts'][fantasy_points['Movement_Pts'] < 0] = 0\n",
      "C:\\users\\jason\\documents\\fantasy-formula-one\\f1.py:228: SettingWithCopyWarning: \n",
      "A value is trying to be set on a copy of a slice from a DataFrame\n",
      "\n",
      "See the caveats in the documentation: http://pandas.pydata.org/pandas-docs/stable/indexing.html#indexing-view-versus-copy\n",
      "  fantasy_points['Movement_Pts'][fantasy_points['Movement_Pts'] > 10] = 10\n"
     ]
    }
   ],
   "source": [
    "#Set up a Race object, score it, return a dataframe of all points\n",
    "ThisRace = Race('China')\n",
    "df_score = ThisRace.score()"
   ]
  },
  {
   "cell_type": "code",
   "execution_count": 11,
   "metadata": {
    "collapsed": false,
    "scrolled": true
   },
   "outputs": [],
   "source": [
    "#Set up current dataframe\n",
    "current = pd.DataFrame(columns=['position', 'lap'])\n",
    "current['position'] = df_score['Grid'].copy()\n",
    "current['lap'] = 0\n",
    "if 'DNS' in current['position']:\n",
    "    current['position'][current['position'] == 'DNS'] = np.NaN\n",
    "if 'PL' in current['position']:\n",
    "    current['position'][current['position'] == 'PL'] = np.NaN\n",
    "current.sort_values('position', inplace=True)"
   ]
  },
  {
   "cell_type": "code",
   "execution_count": 12,
   "metadata": {
    "collapsed": false
   },
   "outputs": [],
   "source": [
    "#Set all laps completed to zero\n",
    "ThisRace.laps_completed = {driver:current.ix[driver]['lap'] for driver in current.index}"
   ]
  },
  {
   "cell_type": "code",
   "execution_count": 13,
   "metadata": {
    "collapsed": false,
    "scrolled": true
   },
   "outputs": [
    {
     "name": "stderr",
     "output_type": "stream",
     "text": [
      "C:\\users\\jason\\documents\\fantasy-formula-one\\f1.py:223: SettingWithCopyWarning: \n",
      "A value is trying to be set on a copy of a slice from a DataFrame\n",
      "\n",
      "See the caveats in the documentation: http://pandas.pydata.org/pandas-docs/stable/indexing.html#indexing-view-versus-copy\n",
      "  fantasy_points['Team_Pts'][fantasy_points['Finish'].isin(team_points)] = 1\n",
      "C:\\users\\jason\\documents\\fantasy-formula-one\\f1.py:227: SettingWithCopyWarning: \n",
      "A value is trying to be set on a copy of a slice from a DataFrame\n",
      "\n",
      "See the caveats in the documentation: http://pandas.pydata.org/pandas-docs/stable/indexing.html#indexing-view-versus-copy\n",
      "  fantasy_points['Movement_Pts'][fantasy_points['Movement_Pts'] < 0] = 0\n",
      "C:\\users\\jason\\documents\\fantasy-formula-one\\f1.py:228: SettingWithCopyWarning: \n",
      "A value is trying to be set on a copy of a slice from a DataFrame\n",
      "\n",
      "See the caveats in the documentation: http://pandas.pydata.org/pandas-docs/stable/indexing.html#indexing-view-versus-copy\n",
      "  fantasy_points['Movement_Pts'][fantasy_points['Movement_Pts'] > 10] = 10\n"
     ]
    }
   ],
   "source": [
    "import matplotlib.animation as animation\n",
    "fastest_lap_time = 1000\n",
    "first = False\n",
    "\n",
    "def update_driver_scores2(step, rects, ax):\n",
    "    global fastest_lap_time\n",
    "    global ThisRace\n",
    "    global current\n",
    "    global new_df\n",
    "    global first\n",
    "    if first == False:\n",
    "        first = True\n",
    "    else:\n",
    "        driver, lap, cume_sec = new_df.ix[step]\n",
    "        if lap == 1:\n",
    "            if cume_sec != np.NaN:\n",
    "                cur_lap_time = cume_sec\n",
    "        elif new_df.ix[i, 'cume_sec'] != np.NaN:\n",
    "            cur_lap_time = cume_sec - float(new_df['cume_sec'][(new_df['driverid'] == driver) & (new_df['lap'] == lap - 1)])\n",
    "\n",
    "        if cur_lap_time < fastest_lap_time: #check for fastest lap\n",
    "            ThisRace.fastest_lap = driver\n",
    "            fastest_lap_time = cur_lap_time\n",
    "        current.ix[driver, 'lap'] += 1 #increment lap\n",
    "        current.sort_values('lap', kind='mergesort', inplace=True, ascending=False) #sort by lap, stable sort\n",
    "        current['position'] = np.arange(1,len(current) + 1) #recalc positions\n",
    "        ThisRace.laps_completed[driver] = lap #update laps completed for driver\n",
    "        ThisRace.drivers_position = {driver:current.ix[driver, 'position'] for driver in current.index} #update driver positions\n",
    "        ThisRace.score().sort_values('Finish', inplace=True, ascending=True)   \n",
    "        for rect, h, driver in zip(rects, \n",
    "                                   [ThisRace.fantasy_points[driver] for driver in current.index], \n",
    "                                   [driver for driver in current.index]):\n",
    "            rect.set_height(h)\n",
    "            rect.set_color(colors[driver])\n",
    "        ax.xaxis.set_ticklabels([driver_abrev[driver] for driver in current.index])\n",
    "        #ax.xaxis.set_ticklabels(current.index)\n",
    "start_time = datetime.datetime.now()\n",
    "\n",
    "#whole race\n",
    "end_time = start_time + datetime.timedelta(seconds=float(new_df[-1:]['cume_sec']))\n",
    "ThisRace.drivers_position = ThisRace.grid_position\n",
    "ThisRace.score()\n",
    "\n",
    "fig1 = plt.figure()\n",
    "#fig, ax = plt.subplots()\n",
    "ax = fig1.add_subplot(1,1,1)\n",
    "x_pos = current['position']\n",
    "points = [ThisRace.fantasy_points[driver] for driver in current.index]\n",
    "rects = ax.bar(x_pos, points, align='center', alpha=0.7)\n",
    "plt.xticks(x_pos, current.index, rotation=90)\n",
    "plt.xlim([0, len(points)+1])\n",
    "plt.title('Drivers Fantasy Points')\n",
    "plt.ylabel('Points')\n",
    "plt.ylim([0, 25])\n",
    "ani = animation.FuncAnimation(fig1, update_driver_scores2, 50, fargs=([rects, ax]))\n",
    "ani.save('China.mp4', fps=1)"
   ]
  },
  {
   "cell_type": "code",
   "execution_count": 14,
   "metadata": {
    "collapsed": false
   },
   "outputs": [
    {
     "name": "stderr",
     "output_type": "stream",
     "text": [
      "C:\\users\\jason\\documents\\fantasy-formula-one\\f1.py:223: SettingWithCopyWarning: \n",
      "A value is trying to be set on a copy of a slice from a DataFrame\n",
      "\n",
      "See the caveats in the documentation: http://pandas.pydata.org/pandas-docs/stable/indexing.html#indexing-view-versus-copy\n",
      "  fantasy_points['Team_Pts'][fantasy_points['Finish'].isin(team_points)] = 1\n",
      "C:\\users\\jason\\documents\\fantasy-formula-one\\f1.py:227: SettingWithCopyWarning: \n",
      "A value is trying to be set on a copy of a slice from a DataFrame\n",
      "\n",
      "See the caveats in the documentation: http://pandas.pydata.org/pandas-docs/stable/indexing.html#indexing-view-versus-copy\n",
      "  fantasy_points['Movement_Pts'][fantasy_points['Movement_Pts'] < 0] = 0\n",
      "C:\\users\\jason\\documents\\fantasy-formula-one\\f1.py:228: SettingWithCopyWarning: \n",
      "A value is trying to be set on a copy of a slice from a DataFrame\n",
      "\n",
      "See the caveats in the documentation: http://pandas.pydata.org/pandas-docs/stable/indexing.html#indexing-view-versus-copy\n",
      "  fantasy_points['Movement_Pts'][fantasy_points['Movement_Pts'] > 10] = 10\n"
     ]
    }
   ],
   "source": [
    "fig, axarr = plt.subplots(2,2)\n",
    "axarr[0,0].set_title('Driver Points')\n",
    "axarr[0,0].plot(current.index, current['position'])\n",
    "axarr[0,1].set_title('Team Points')\n",
    "axarr[0,1].plot()\n",
    "axarr[1,0].set_title('Team Points Over Time')\n",
    "\n",
    "plt.show()"
   ]
  },
  {
   "cell_type": "code",
   "execution_count": 18,
   "metadata": {
    "collapsed": false
   },
   "outputs": [
    {
     "ename": "AttributeError",
     "evalue": "'Race' object has no attribute 'teams'",
     "output_type": "error",
     "traceback": [
      "\u001b[1;31m---------------------------------------------------------------------------\u001b[0m",
      "\u001b[1;31mAttributeError\u001b[0m                            Traceback (most recent call last)",
      "\u001b[1;32m<ipython-input-18-7d7ed8572234>\u001b[0m in \u001b[0;36m<module>\u001b[1;34m()\u001b[0m\n\u001b[1;32m----> 1\u001b[1;33m \u001b[0mThisRace\u001b[0m\u001b[1;33m.\u001b[0m\u001b[0mteams\u001b[0m\u001b[1;33m\u001b[0m\u001b[0m\n\u001b[0m",
      "\u001b[1;31mAttributeError\u001b[0m: 'Race' object has no attribute 'teams'"
     ]
    }
   ],
   "source": [
    "ThisTeam = "
   ]
  },
  {
   "cell_type": "code",
   "execution_count": null,
   "metadata": {
    "collapsed": true
   },
   "outputs": [],
   "source": [
    "import matplotlib.animation as animation\n",
    "\n",
    "def update_line(num, data, line):\n",
    "    line.set_data(data[...,:num])\n",
    "    return line,\n",
    "\n",
    "fig1 = plt.figure()\n",
    "\n",
    "data = np.random.rand(2, 25)\n",
    "l, = plt.plot([], [], 'r-')\n",
    "plt.xlim(0, 1)\n",
    "plt.ylim(0, 1)\n",
    "plt.xlabel('x')\n",
    "plt.title('test')\n",
    "line_ani = animation.FuncAnimation(fig1, update_line, 25, fargs=(data, l),\n",
    "    interval=50, blit=True)\n",
    "#line_ani.save('lines.mp4')\n",
    "\n",
    "fig2 = plt.figure()\n",
    "\n",
    "x = np.arange(-9, 10)\n",
    "y = np.arange(-9, 10).reshape(-1, 1)\n",
    "base = np.hypot(x, y)\n",
    "ims = []\n",
    "for add in np.arange(15):\n",
    "    ims.append((plt.pcolor(x, y, base + add, norm=plt.Normalize(0, 30)),))\n",
    "\n",
    "im_ani = animation.ArtistAnimation(fig2, ims, interval=50, repeat_delay=3000,\n",
    "    blit=True)\n",
    "#im_ani.save('im.mp4', metadata={'artist':'Guido'})\n",
    "\n",
    "plt.show()"
   ]
  },
  {
   "cell_type": "code",
   "execution_count": null,
   "metadata": {
    "collapsed": false
   },
   "outputs": [],
   "source": [
    "import matplotlib.animation as animation\n",
    "def update_driver_scores(raceObj, current, driver, lap, lap_time, abs_time):\n",
    "    #do I need globals so the objects are edited?\n",
    "    current.ix[driver, 'lap'] += 1 #increment lap\n",
    "    current.sort_values('lap', kind='mergesort', inplace=True, ascending=False) #sort by lap, stable\n",
    "    current['position'] = np.arange(1,len(current) + 1) #recalc positions\n",
    "    raceObj.laps_completed[driver] = lap #update laps completed for driver\n",
    "    raceObj.drivers_position = {driver:current.ix[driver, 'position'] for driver in current.index} #update driver positions\n",
    "    if lap_time < fastest_lap_time: #check for fastest lap\n",
    "        raceObj.fastest_lap = driver\n",
    "        fastest_lap_time = cur_lap_time\n",
    "    return raceObj.score().sort_values('Finish', inplace=True, ascending=True)\n",
    "\n",
    "def update_bar_chart(racePanda, rects):\n",
    "    for rect, h in zip(rects, racePanda['Total_Race_Pts']):\n",
    "        rect.set_height(h)\n",
    "\n",
    "fastest_lap_time = 1000\n",
    "start_time = datetime.datetime.now()\n",
    "#whole race\n",
    "end_time = start_time + datetime.timedelta(seconds=float(new_df[-1:]['cume_sec']))\n",
    "i = 0\n",
    "ThisRace.drivers_position = ThisRace.grid_position\n",
    "ThisRace.score()\n",
    "\n",
    "fig1 = plt.figure()\n",
    "ax = fig1.add_subplot(1,1,1)\n",
    "x_pos = current['position']\n",
    "points = [ThisRace.fantasy_points[driver] for driver in current.index]\n",
    "rects = plt.bar(x_pos, points, align='center', alpha=0.7)\n",
    "plt.xticks(x_pos, current.index, rotation=90)\n",
    "plt.xlim([-1, len(points)])\n",
    "plt.title('Drivers Fantasy Points')\n",
    "plt.xlabel('Driver')\n",
    "plt.ylabel('Points')\n",
    "plt.ylim([0, 25])\n",
    "#ani = animation.FuncAnimation(fig1, update_driver_scores, i, fargs=(ThisRace, ))\n",
    "plt.show()"
   ]
  }
 ],
 "metadata": {
  "kernelspec": {
   "display_name": "Python 3",
   "language": "python",
   "name": "python3"
  },
  "language_info": {
   "codemirror_mode": {
    "name": "ipython",
    "version": 3
   },
   "file_extension": ".py",
   "mimetype": "text/x-python",
   "name": "python",
   "nbconvert_exporter": "python",
   "pygments_lexer": "ipython3",
   "version": "3.5.1"
  }
 },
 "nbformat": 4,
 "nbformat_minor": 0
}
