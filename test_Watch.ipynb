{
 "cells": [
  {
   "cell_type": "code",
   "execution_count": 17,
   "metadata": {
    "collapsed": false
   },
   "outputs": [],
   "source": [
    "import pandas as pd\n",
    "import numpy as np\n",
    "import matplotlib\n",
    "import matplotlib.pyplot as plt\n",
    "#%matplotlib inline\n",
    "from bs4 import BeautifulSoup\n",
    "import html5lib\n",
    "import requests\n",
    "import datetime\n",
    "import time\n",
    "from f1 import Team\n",
    "from f1 import Race\n",
    "import matplotlib.animation as animation"
   ]
  },
  {
   "cell_type": "code",
   "execution_count": 18,
   "metadata": {
    "collapsed": true
   },
   "outputs": [],
   "source": [
    "#Change these variables to update the race:\n",
    "# RACE = '8'\n",
    "# RACENAME = 'Azerbaijan'\n",
    "RACE = '11'\n",
    "RACENAME = 'Hungary'"
   ]
  },
  {
   "cell_type": "code",
   "execution_count": null,
   "metadata": {
    "collapsed": false
   },
   "outputs": [],
   "source": [
    "#This section is to download fresh results from Ergast\n",
    "path = 'http://ergast.com/api/f1'\n",
    "season = '2016'\n",
    "URL = path + '/' + season + '/' + RACE + '/' + 'laps?limit=1000'\n",
    "\n",
    "#Download\n",
    "results = requests.get(URL)\n",
    "#soup = BeautifulSoup(results.content, 'lxml')\n",
    "print(\"First 1000 records downloaded\")\n",
    "#Part 2\n",
    "URL = path + '/' + season + '/' + RACE + '/' + 'laps?limit=1000&offset=1000'\n",
    "results2 = requests.get(URL)\n",
    "#soup2 = BeautifulSoup(results2.content, 'lxml')\n",
    "with open(RACENAME + '_race_dl.xml', 'wb') as f:\n",
    "    f.write(results.content)\n",
    "    f.write(results2.content)"
   ]
  },
  {
   "cell_type": "code",
   "execution_count": 19,
   "metadata": {
    "collapsed": true
   },
   "outputs": [],
   "source": [
    "#This section will just open a saved copy.  Run it always to pull the composite soup\n",
    "with open(RACENAME + '_race_dl.xml', 'rb') as f:\n",
    "    results = f.read()\n",
    "soup = BeautifulSoup(results, 'lxml')"
   ]
  },
  {
   "cell_type": "code",
   "execution_count": 20,
   "metadata": {
    "collapsed": false
   },
   "outputs": [],
   "source": [
    "#pull in driverids to names\n",
    "driver_info = pd.DataFrame.from_csv('driver_info.csv')\n",
    "driverid_dict = {driver_info.ix[i]['driverid']:driver_info.ix[i]['GivenName'] + \" \" + driver_info.ix[i]['FamilyName'] for i in driver_info.index}\n",
    "driverid_dict['sainz'] = driverid_dict['sainz'] + ' Jr.'\n",
    "colors = {driver_info.ix[i]['GivenName'] + \" \" + driver_info.ix[i]['FamilyName']: driver_info.ix[i]['color'] for i in driver_info.index}\n",
    "#Manually Correct Carlos Sainz\n",
    "colors['Carlos Sainz Jr.'] = colors['Carlos Sainz']\n",
    "driver_abrev = {driver_info.ix[i]['GivenName'] + \" \" + driver_info.ix[i]['FamilyName']:driver_info.ix[i]['code'] for i in driver_info.index}\n",
    "driver_abrev['Carlos Sainz Jr.'] = 'SAI'"
   ]
  },
  {
   "cell_type": "code",
   "execution_count": 21,
   "metadata": {
    "collapsed": false,
    "scrolled": true
   },
   "outputs": [],
   "source": [
    "headers = ('driverid', 'lap', 'time')\n",
    "num_rows = len(soup.find_all('timing'))\n",
    "race_dict = {}\n",
    "for header in headers:\n",
    "    race_dict[header] = [race[header] for race in soup.find_all('timing')]\n",
    "df = pd.DataFrame(race_dict)\n",
    "df['minutes'] = df['time'].apply(lambda x: x.split(':')[0])\n",
    "df['seconds'] = df['time'].apply(lambda x: x.split(':')[1])\n",
    "df['lap_sec'] = df['minutes'].astype('int64') * 60 + df['seconds'].astype('float32')\n",
    "df['lap'] = df['lap'].astype('int64')\n",
    "df['driver'] = df['driverid'].apply(lambda x: driverid_dict[x])"
   ]
  },
  {
   "cell_type": "code",
   "execution_count": 22,
   "metadata": {
    "collapsed": false
   },
   "outputs": [],
   "source": [
    "pivot = df.pivot(index='driver', columns='lap', values='lap_sec')"
   ]
  },
  {
   "cell_type": "code",
   "execution_count": 23,
   "metadata": {
    "collapsed": false
   },
   "outputs": [],
   "source": [
    "for i in range(2, df['lap'].max() + 1):\n",
    "    pivot.ix[:,i] = pivot.ix[:,i] + pivot.ix[:, i-1]"
   ]
  },
  {
   "cell_type": "code",
   "execution_count": 24,
   "metadata": {
    "collapsed": false
   },
   "outputs": [],
   "source": [
    "unpivot = pivot.stack()\n",
    "new_df = unpivot.reset_index()\n",
    "new_df.columns = ['driverid', 'lap', 'cume_sec']\n",
    "new_df.sort_values('cume_sec', ascending=True, inplace=True)\n",
    "new_df = new_df.reset_index()\n",
    "new_df.drop('index', axis=1, inplace=True)"
   ]
  },
  {
   "cell_type": "code",
   "execution_count": 25,
   "metadata": {
    "collapsed": false,
    "scrolled": true
   },
   "outputs": [],
   "source": [
    "#Set up a Race object, score it, return a dataframe of all points\n",
    "ThisRace = Race(RACENAME)\n",
    "df_score = ThisRace.score()\n",
    "ThisTeam = Team(RACENAME)"
   ]
  },
  {
   "cell_type": "code",
   "execution_count": 26,
   "metadata": {
    "collapsed": false,
    "scrolled": true
   },
   "outputs": [
    {
     "name": "stderr",
     "output_type": "stream",
     "text": [
      "C:\\Users\\Jason\\Anaconda3\\lib\\site-packages\\ipykernel\\__main__.py:13: SettingWithCopyWarning: \n",
      "A value is trying to be set on a copy of a slice from a DataFrame\n",
      "\n",
      "See the caveats in the documentation: http://pandas.pydata.org/pandas-docs/stable/indexing.html#indexing-view-versus-copy\n"
     ]
    },
    {
     "data": {
      "text/html": [
       "<div>\n",
       "<table border=\"1\" class=\"dataframe\">\n",
       "  <thead>\n",
       "    <tr style=\"text-align: right;\">\n",
       "      <th></th>\n",
       "      <th>position</th>\n",
       "      <th>lap</th>\n",
       "    </tr>\n",
       "  </thead>\n",
       "  <tbody>\n",
       "    <tr>\n",
       "      <th>Nico Rosberg</th>\n",
       "      <td>1</td>\n",
       "      <td>0</td>\n",
       "    </tr>\n",
       "    <tr>\n",
       "      <th>Lewis Hamilton</th>\n",
       "      <td>2</td>\n",
       "      <td>0</td>\n",
       "    </tr>\n",
       "    <tr>\n",
       "      <th>Daniel Ricciardo</th>\n",
       "      <td>3</td>\n",
       "      <td>0</td>\n",
       "    </tr>\n",
       "    <tr>\n",
       "      <th>Max Verstappen</th>\n",
       "      <td>4</td>\n",
       "      <td>0</td>\n",
       "    </tr>\n",
       "    <tr>\n",
       "      <th>Sebastian Vettel</th>\n",
       "      <td>5</td>\n",
       "      <td>0</td>\n",
       "    </tr>\n",
       "    <tr>\n",
       "      <th>Carlos Sainz Jr.</th>\n",
       "      <td>6</td>\n",
       "      <td>0</td>\n",
       "    </tr>\n",
       "    <tr>\n",
       "      <th>Fernando Alonso</th>\n",
       "      <td>7</td>\n",
       "      <td>0</td>\n",
       "    </tr>\n",
       "    <tr>\n",
       "      <th>Jenson Button</th>\n",
       "      <td>8</td>\n",
       "      <td>0</td>\n",
       "    </tr>\n",
       "    <tr>\n",
       "      <th>Nico Hülkenberg</th>\n",
       "      <td>9</td>\n",
       "      <td>0</td>\n",
       "    </tr>\n",
       "    <tr>\n",
       "      <th>Valtteri Bottas</th>\n",
       "      <td>10</td>\n",
       "      <td>0</td>\n",
       "    </tr>\n",
       "    <tr>\n",
       "      <th>Romain Grosjean</th>\n",
       "      <td>11</td>\n",
       "      <td>0</td>\n",
       "    </tr>\n",
       "    <tr>\n",
       "      <th>Daniil Kvyat</th>\n",
       "      <td>12</td>\n",
       "      <td>0</td>\n",
       "    </tr>\n",
       "    <tr>\n",
       "      <th>Sergio Pérez</th>\n",
       "      <td>13</td>\n",
       "      <td>0</td>\n",
       "    </tr>\n",
       "    <tr>\n",
       "      <th>Kimi Räikkönen</th>\n",
       "      <td>14</td>\n",
       "      <td>0</td>\n",
       "    </tr>\n",
       "    <tr>\n",
       "      <th>Esteban Gutiérrez</th>\n",
       "      <td>15</td>\n",
       "      <td>0</td>\n",
       "    </tr>\n",
       "    <tr>\n",
       "      <th>Felipe Nasr</th>\n",
       "      <td>16</td>\n",
       "      <td>0</td>\n",
       "    </tr>\n",
       "    <tr>\n",
       "      <th>Jolyon Palmer</th>\n",
       "      <td>17</td>\n",
       "      <td>0</td>\n",
       "    </tr>\n",
       "    <tr>\n",
       "      <th>Felipe Massa</th>\n",
       "      <td>18</td>\n",
       "      <td>0</td>\n",
       "    </tr>\n",
       "    <tr>\n",
       "      <th>Kevin Magnussen</th>\n",
       "      <td>19</td>\n",
       "      <td>0</td>\n",
       "    </tr>\n",
       "    <tr>\n",
       "      <th>Pascal Wehrlein</th>\n",
       "      <td>20</td>\n",
       "      <td>0</td>\n",
       "    </tr>\n",
       "    <tr>\n",
       "      <th>Rio Haryanto</th>\n",
       "      <td>21</td>\n",
       "      <td>0</td>\n",
       "    </tr>\n",
       "    <tr>\n",
       "      <th>Marcus Ericsson</th>\n",
       "      <td>22</td>\n",
       "      <td>0</td>\n",
       "    </tr>\n",
       "  </tbody>\n",
       "</table>\n",
       "</div>"
      ],
      "text/plain": [
       "                  position  lap\n",
       "Nico Rosberg             1    0\n",
       "Lewis Hamilton           2    0\n",
       "Daniel Ricciardo         3    0\n",
       "Max Verstappen           4    0\n",
       "Sebastian Vettel         5    0\n",
       "Carlos Sainz Jr.         6    0\n",
       "Fernando Alonso          7    0\n",
       "Jenson Button            8    0\n",
       "Nico Hülkenberg          9    0\n",
       "Valtteri Bottas         10    0\n",
       "Romain Grosjean         11    0\n",
       "Daniil Kvyat            12    0\n",
       "Sergio Pérez            13    0\n",
       "Kimi Räikkönen          14    0\n",
       "Esteban Gutiérrez       15    0\n",
       "Felipe Nasr             16    0\n",
       "Jolyon Palmer           17    0\n",
       "Felipe Massa            18    0\n",
       "Kevin Magnussen         19    0\n",
       "Pascal Wehrlein         20    0\n",
       "Rio Haryanto            21    0\n",
       "Marcus Ericsson         22    0"
      ]
     },
     "execution_count": 26,
     "metadata": {},
     "output_type": "execute_result"
    }
   ],
   "source": [
    "#Set up current dataframe:\n",
    "#tracks each drivers position at a certain point of the race\n",
    "#and the laps completed.\n",
    "current = pd.DataFrame(columns=['position', 'lap'])\n",
    "current['position'] = df_score['Grid'].copy()\n",
    "current['lap'] = 0\n",
    "if 'DNS' in current['position']:\n",
    "    current['position'][current['position'] == 'DNS'] = np.NaN\n",
    "if 'PL' in current['position']:\n",
    "    current['position'][current['position'] == 'PL'] = np.NaN\n",
    "\n",
    "#Fix pit lane\n",
    "current['position']['Marcus Ericsson'] = 22\n",
    "\n",
    "current.sort_values('position', inplace=True)\n",
    "current"
   ]
  },
  {
   "cell_type": "code",
   "execution_count": 27,
   "metadata": {
    "collapsed": false
   },
   "outputs": [],
   "source": [
    "#Set all laps completed to zero\n",
    "ThisRace.laps_completed = {driver:current.ix[driver]['lap'] for driver in current.index}"
   ]
  },
  {
   "cell_type": "code",
   "execution_count": 28,
   "metadata": {
    "collapsed": false,
    "scrolled": true
   },
   "outputs": [],
   "source": [
    "#Reworking on real time\n",
    "fastest_lap_time = 1000 #dummy value\n",
    "first = False \n",
    "row_count = 0\n",
    "fps = 25\n",
    "\n",
    "def blank():\n",
    "    pass\n",
    "def update_driver_scores2(step, rects, ax, team_rects, team_ax):\n",
    "    global fastest_lap_time\n",
    "    global ThisRace\n",
    "    global current\n",
    "    global new_df\n",
    "    global first\n",
    "    global row_count\n",
    "    global fps\n",
    "    global team_df\n",
    "    global ThisTeam\n",
    "    #print('Step:', step, 'Row Count:', row_count)\n",
    "    if float(new_df.ix[row_count]['cume_sec']) < step / fps:\n",
    "        driver, lap, cume_sec = new_df.ix[row_count]\n",
    "        if lap == 1:\n",
    "            if cume_sec != np.NaN:\n",
    "                cur_lap_time = cume_sec\n",
    "        elif new_df.ix[row_count, 'cume_sec'] != np.NaN:\n",
    "            cur_lap_time = cume_sec - float(new_df['cume_sec'][(new_df['driverid'] == driver) & (new_df['lap'] == lap - 1)])\n",
    "        if cur_lap_time < fastest_lap_time: #check for fastest lap\n",
    "            ThisRace.fastest_lap = driver\n",
    "            fastest_lap_time = cur_lap_time\n",
    "        if cume_sec == np.NaN:\n",
    "            #ThisRace.drivers_position[driver] = \"Ret\"\n",
    "            #print(driver, 'is out!')\n",
    "            xxx = 0 #filler code\n",
    "        else:\n",
    "            current.ix[driver, 'lap'] += 1 #increment lap\n",
    "            current.sort_values('lap', kind='mergesort', inplace=True, ascending=False) #sort by lap, stable sort\n",
    "            #print('before: \\n', current)\n",
    "            current['position'] = np.arange(1,len(current) + 1) #recalc positions\n",
    "            #print('after: \\n', current)\n",
    "            ThisRace.laps_completed[driver] = lap #update laps completed for driver\n",
    "            ThisRace.drivers_position = {driver:current.ix[driver, 'position'] for driver in current.index} #update driver positions\n",
    "        ThisRace.score().sort_values('Finish', inplace=True, ascending=True)\n",
    "        #print(ThisRace.fantasy_points)\n",
    "        for rect, h, driver in zip(rects, \n",
    "                                   [ThisRace.fantasy_points[driver] for driver in current.index], \n",
    "                                   [driver for driver in current.index]):\n",
    "            #print(rect, h, driver)\n",
    "            rect.set_height(h)\n",
    "            rect.set_color(colors[driver])\n",
    "            rect.set_edgecolor('#000000')\n",
    "        ax.xaxis.set_ticklabels([driver_abrev[driver] for driver in current.index])\n",
    "        #print([driver for driver in current.index])\n",
    "        #ax.xaxis.set_ticklabels(current.index)\n",
    "            \n",
    "        team_score = {team:sum([ThisRace.fantasy_points[driver] for driver in ThisTeam.teams[team]]) for team in ThisTeam.teams}\n",
    "        team_df['Sum'] = team_score.values()\n",
    "        team_sum = team_df['Sum']\n",
    "#         team_ax.bar(teams, team_sum)\n",
    "        for team_rect, h in zip(team_rects, team_sum):\n",
    "            team_rect.set_height(h)\n",
    "        row_count += 1\n",
    "            \n",
    "    #for team, score in team_score.items():\n",
    "    #    team_df.ix[interval, team] = score\n",
    "\n",
    "#whole race\n",
    "start_time = datetime.datetime.now()\n",
    "end_time = start_time + datetime.timedelta(seconds=float(new_df[-1:]['cume_sec']))\n",
    "ThisRace.drivers_position = ThisRace.grid_position\n",
    "ThisRace.score()\n",
    "\n",
    "f, (ax2, ax1) = plt.subplots(2, 1, sharex=False, sharey=False)\n",
    "#fig1 = plt.figure()\n",
    "#fig, ax = plt.subplots()\n",
    "#ax = fig1.add_subplot(1,1,1)\n",
    "#ax.grid(False)\n",
    "ax1.xaxis.grid(False)\n",
    "#ax.yaxis.grid(True)\n",
    "ax1.set_frame_on(False)\n",
    "ax1.tick_params(axis='minor', width=0)\n",
    "x_pos = current['position']\n",
    "points = [ThisRace.fantasy_points[driver] for driver in current.index]\n",
    "rects = ax1.bar(x_pos, points, align='center', edgecolor='#000000', linewidth=0.5)\n",
    "plt.xticks(x_pos, [driver_abrev[driver] for driver in current.index], rotation=90)\n",
    "plt.xlim([0, len(points)+1])\n",
    "#plt.title('Drivers Fantasy Points')\n",
    "plt.ylabel('Points')\n",
    "plt.ylim([0, 25])\n",
    "interval = int(new_df[-1:]['cume_sec'] * fps)\n",
    "\n",
    "\n",
    "###NEW STUFF\n",
    "ax1.yaxis.grid(which='major', color='b', linestyle='--', linewidth=1)\n",
    "plt.axvline(x=5.5, linewidth = 3, color = 'black')\n",
    "plt.axvline(x=10.5, linewidth = 3, color = 'black')\n",
    "plt.axvline(x=15.5, linewidth = 3, color = 'black')\n",
    "plt.axvline(x=20.5, linewidth = 3, color = 'black')\n",
    "### NEW STUFF\n",
    "team_score = {team:sum([ThisRace.fantasy_points[driver] for driver in ThisTeam.teams[team]]) for team in ThisTeam.teams}\n",
    "team_df = pd.DataFrame(index=team_score.keys())\n",
    "team_df['Sum'] = team_score.values()\n",
    "#ax2 = fig1.add_subplot(2,2,1)\n",
    "teams = range(len(team_df.index))\n",
    "team_sum = team_df['Sum']\n",
    "#ax2.bar(teams, team_sum)\n",
    "team_rects = ax2.bar(teams, team_sum, align='center', edgecolor='#000000', linewidth=0.5)\n",
    "ax2.set_frame_on(False)\n",
    "ax2.tick_params(axis='y', width=0)\n",
    "ax2.xaxis.set_ticklabels(team_df.index)\n",
    "#plt.xticks(range(1,6), team_df.index)\n",
    "for team_rect, h in zip(team_rects, team_sum):\n",
    "    team_rect.set_height(h)\n",
    "\n",
    "\n",
    "\n",
    "# ax.spines['top'].set_visible(True)\n",
    "# ax.spines['top'].set_linewidth(3)\n",
    "for rect, h, driver in zip(rects, \n",
    "                           [ThisRace.fantasy_points[driver] for driver in current.index], \n",
    "                           [driver for driver in current.index]):\n",
    "            rect.set_height(h)\n",
    "            rect.set_color(colors[driver])\n",
    "            rect.set_edgecolor('#000000')\n",
    "ani = animation.FuncAnimation(f, update_driver_scores2, interval, fargs=([rects, ax1, team_rects, ax2]), init_func=blank)\n",
    "ani.save(RACENAME + '2a_movie.mp4', fps=fps, writer='ffmpeg', bitrate=5000)"
   ]
  },
  {
   "cell_type": "code",
   "execution_count": 16,
   "metadata": {
    "collapsed": false
   },
   "outputs": [
    {
     "data": {
      "text/plain": [
       "Sebastian Vettel      5\n",
       "Kimi Räikkönen       14\n",
       "Nico Hülkenberg       9\n",
       "Sergio Pérez         13\n",
       "Esteban Gutiérrez    15\n",
       "Romain Grosjean      11\n",
       "Pascal Wehrlein      20\n",
       "Rio Haryanto         21\n",
       "Fernando Alonso       7\n",
       "Jenson Button         8\n",
       "Lewis Hamilton        2\n",
       "Nico Rosberg          1\n",
       "Daniel Ricciardo      3\n",
       "Max Verstappen        4\n",
       "Jolyon Palmer        17\n",
       "Kevin Magnussen      22\n",
       "Felipe Nasr          16\n",
       "Marcus Ericsson      PL\n",
       "Carlos Sainz Jr.      6\n",
       "Daniil Kvyat         12\n",
       "Valtteri Bottas      10\n",
       "Felipe Massa         18\n",
       "Name: position, dtype: object"
      ]
     },
     "execution_count": 16,
     "metadata": {},
     "output_type": "execute_result"
    }
   ],
   "source": [
    "x_pos"
   ]
  },
  {
   "cell_type": "code",
   "execution_count": null,
   "metadata": {
    "collapsed": false
   },
   "outputs": [],
   "source": [
    "team_df = pd.DataFrame(index=team_score.keys(), columns = ['Sum'])\n",
    "team_df['Sum'] = team_score.values()\n",
    "team_df"
   ]
  },
  {
   "cell_type": "code",
   "execution_count": null,
   "metadata": {
    "collapsed": false
   },
   "outputs": [],
   "source": [
    "team_names = list(team_df.index)\n",
    "team_names.insert(0, '')\n",
    "team_names"
   ]
  },
  {
   "cell_type": "code",
   "execution_count": null,
   "metadata": {
    "collapsed": false
   },
   "outputs": [],
   "source": [
    "team_names = list(team_df.index)\n",
    "ax2.xaxis.set_ticklabels(range(1, 6), team_names)\n",
    "plt.show()"
   ]
  },
  {
   "cell_type": "code",
   "execution_count": null,
   "metadata": {
    "collapsed": true
   },
   "outputs": [],
   "source": [
    "plt.show()"
   ]
  },
  {
   "cell_type": "code",
   "execution_count": null,
   "metadata": {
    "collapsed": false
   },
   "outputs": [],
   "source": [
    "f, (ax1, ax2) = plt.subplots(2, 1, sharex=False)\n",
    "ax1.bar(x_pos, points, align='center', edgecolor='#000000', linewidth=0.5)\n",
    "ax1.set_title('Sharing Y axis')\n",
    "teams = range(len(team_df2.index))\n",
    "team_sum = team_df2['Sum']\n",
    "ax2.bar(teams, team_sum)"
   ]
  },
  {
   "cell_type": "code",
   "execution_count": null,
   "metadata": {
    "collapsed": false
   },
   "outputs": [],
   "source": [
    "for x in ThisTeam.teams:\n",
    "    print(x)\n",
    "    for y in ThisTeam.teams[x]:\n",
    "        print(ThisRace.fantasy_points[y])\n"
   ]
  },
  {
   "cell_type": "code",
   "execution_count": null,
   "metadata": {
    "collapsed": false
   },
   "outputs": [],
   "source": [
    "team_score = {}\n",
    "for team in ThisTeam.teams:\n",
    "    team_score[team] = sum([ThisRace.fantasy_points[driver] for driver in ThisTeam.teams[team]])\n",
    "team_score"
   ]
  },
  {
   "cell_type": "code",
   "execution_count": null,
   "metadata": {
    "collapsed": false
   },
   "outputs": [],
   "source": [
    "team_score = {team:sum([ThisRace.fantasy_points[driver] for driver in ThisTeam.teams[team]]) for team in ThisTeam.teams}"
   ]
  },
  {
   "cell_type": "code",
   "execution_count": null,
   "metadata": {
    "collapsed": false,
    "scrolled": true
   },
   "outputs": [],
   "source": [
    "team_score"
   ]
  },
  {
   "cell_type": "code",
   "execution_count": null,
   "metadata": {
    "collapsed": false
   },
   "outputs": [],
   "source": [
    "team_df2 = pd.DataFrame(index=team_score.keys())"
   ]
  },
  {
   "cell_type": "code",
   "execution_count": null,
   "metadata": {
    "collapsed": false
   },
   "outputs": [],
   "source": [
    "team_df2['Sum'] = team_score.values()"
   ]
  },
  {
   "cell_type": "code",
   "execution_count": null,
   "metadata": {
    "collapsed": false
   },
   "outputs": [],
   "source": [
    "team_df2"
   ]
  },
  {
   "cell_type": "code",
   "execution_count": null,
   "metadata": {
    "collapsed": false
   },
   "outputs": [],
   "source": [
    "%pylab inline\n",
    "team_df2.plot(kind='bar', legend= None)"
   ]
  },
  {
   "cell_type": "code",
   "execution_count": null,
   "metadata": {
    "collapsed": true
   },
   "outputs": [],
   "source": []
  },
  {
   "cell_type": "code",
   "execution_count": null,
   "metadata": {
    "collapsed": false
   },
   "outputs": [],
   "source": [
    "team_df = pd.DataFrame(columns=team_score.keys(), index=range(interval))"
   ]
  },
  {
   "cell_type": "code",
   "execution_count": null,
   "metadata": {
    "collapsed": false
   },
   "outputs": [],
   "source": [
    "for x in range(interval):\n",
    "    if x%100 == 0:\n",
    "        for team, score in team_score.items():\n",
    "            team_df.ix[x, team] = score + np.random.randint(1, high=5)\n",
    "    else:\n",
    "        for team, score in team_score.items():\n",
    "            team_df.ix[x, team] = team_df.ix[x-1, team]\n",
    "#for team, score in team_score.items():\n",
    "#    print(team, score)"
   ]
  },
  {
   "cell_type": "code",
   "execution_count": null,
   "metadata": {
    "collapsed": false,
    "scrolled": true
   },
   "outputs": [],
   "source": [
    "team_df"
   ]
  },
  {
   "cell_type": "code",
   "execution_count": null,
   "metadata": {
    "collapsed": true
   },
   "outputs": [],
   "source": [
    "?np.random.randint()"
   ]
  },
  {
   "cell_type": "code",
   "execution_count": null,
   "metadata": {
    "collapsed": false
   },
   "outputs": [],
   "source": [
    "team_df.plot()"
   ]
  },
  {
   "cell_type": "code",
   "execution_count": null,
   "metadata": {
    "collapsed": true
   },
   "outputs": [],
   "source": [
    "plt.show()"
   ]
  }
 ],
 "metadata": {
  "kernelspec": {
   "display_name": "Python 3",
   "language": "python",
   "name": "python3"
  },
  "language_info": {
   "codemirror_mode": {
    "name": "ipython",
    "version": 3
   },
   "file_extension": ".py",
   "mimetype": "text/x-python",
   "name": "python",
   "nbconvert_exporter": "python",
   "pygments_lexer": "ipython3",
   "version": "3.5.1"
  }
 },
 "nbformat": 4,
 "nbformat_minor": 0
}
